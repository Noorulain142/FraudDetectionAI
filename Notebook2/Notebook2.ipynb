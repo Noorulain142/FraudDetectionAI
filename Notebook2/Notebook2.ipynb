{
 "cells": [
  {
   "cell_type": "markdown",
   "id": "ab38ee2b",
   "metadata": {},
   "source": [
    "# <center> FEATURE ENGINEERING </center>"
   ]
  },
  {
   "cell_type": "markdown",
   "id": "6f631c99",
   "metadata": {},
   "source": [
    "## Feature Transformation:"
   ]
  },
  {
   "cell_type": "code",
   "execution_count": 1,
   "id": "d0918c98",
   "metadata": {},
   "outputs": [],
   "source": [
    "import pandas as pd\n",
    "file_path = \"../data/data_description.csv\" \n",
    "dc = pd.read_csv(file_path)\n",
    "df = pd.read_parquet('../data/data.parquet')\n",
    "df['trans_date_trans_time'] = pd.to_datetime(df['trans_date_trans_time'])"
   ]
  },
  {
   "cell_type": "code",
   "execution_count": 2,
   "id": "3fcaa8bf",
   "metadata": {},
   "outputs": [
    {
     "data": {
      "text/html": [
       "<div>\n",
       "<style scoped>\n",
       "    .dataframe tbody tr th:only-of-type {\n",
       "        vertical-align: middle;\n",
       "    }\n",
       "\n",
       "    .dataframe tbody tr th {\n",
       "        vertical-align: top;\n",
       "    }\n",
       "\n",
       "    .dataframe thead th {\n",
       "        text-align: right;\n",
       "    }\n",
       "</style>\n",
       "<table border=\"1\" class=\"dataframe\">\n",
       "  <thead>\n",
       "    <tr style=\"text-align: right;\">\n",
       "      <th></th>\n",
       "      <th>trans_date_trans_time</th>\n",
       "      <th>cc_num</th>\n",
       "      <th>merchant</th>\n",
       "      <th>category</th>\n",
       "      <th>amt</th>\n",
       "      <th>first</th>\n",
       "      <th>last</th>\n",
       "      <th>gender</th>\n",
       "      <th>street</th>\n",
       "      <th>city</th>\n",
       "      <th>...</th>\n",
       "      <th>lat</th>\n",
       "      <th>long</th>\n",
       "      <th>city_pop</th>\n",
       "      <th>job</th>\n",
       "      <th>dob</th>\n",
       "      <th>trans_num</th>\n",
       "      <th>unix_time</th>\n",
       "      <th>merch_lat</th>\n",
       "      <th>merch_long</th>\n",
       "      <th>is_fraud</th>\n",
       "    </tr>\n",
       "  </thead>\n",
       "  <tbody>\n",
       "    <tr>\n",
       "      <th>0</th>\n",
       "      <td>2019-01-01 00:00:18</td>\n",
       "      <td>2703186189652095</td>\n",
       "      <td>fraud_Rippin, Kub and Mann</td>\n",
       "      <td>misc_net</td>\n",
       "      <td>4.97</td>\n",
       "      <td>Jennifer</td>\n",
       "      <td>Banks</td>\n",
       "      <td>F</td>\n",
       "      <td>561 Perry Cove</td>\n",
       "      <td>Moravian Falls</td>\n",
       "      <td>...</td>\n",
       "      <td>36.0788</td>\n",
       "      <td>-81.1781</td>\n",
       "      <td>3495</td>\n",
       "      <td>Psychologist, counselling</td>\n",
       "      <td>1988-03-09</td>\n",
       "      <td>0b242abb623afc578575680df30655b9</td>\n",
       "      <td>1325376018</td>\n",
       "      <td>36.011293</td>\n",
       "      <td>-82.048315</td>\n",
       "      <td>0</td>\n",
       "    </tr>\n",
       "    <tr>\n",
       "      <th>1</th>\n",
       "      <td>2019-01-01 00:00:44</td>\n",
       "      <td>630423337322</td>\n",
       "      <td>fraud_Heller, Gutmann and Zieme</td>\n",
       "      <td>grocery_pos</td>\n",
       "      <td>107.23</td>\n",
       "      <td>Stephanie</td>\n",
       "      <td>Gill</td>\n",
       "      <td>F</td>\n",
       "      <td>43039 Riley Greens Suite 393</td>\n",
       "      <td>Orient</td>\n",
       "      <td>...</td>\n",
       "      <td>48.8878</td>\n",
       "      <td>-118.2105</td>\n",
       "      <td>149</td>\n",
       "      <td>Special educational needs teacher</td>\n",
       "      <td>1978-06-21</td>\n",
       "      <td>1f76529f8574734946361c461b024d99</td>\n",
       "      <td>1325376044</td>\n",
       "      <td>49.159047</td>\n",
       "      <td>-118.186462</td>\n",
       "      <td>0</td>\n",
       "    </tr>\n",
       "    <tr>\n",
       "      <th>2</th>\n",
       "      <td>2019-01-01 00:00:51</td>\n",
       "      <td>38859492057661</td>\n",
       "      <td>fraud_Lind-Buckridge</td>\n",
       "      <td>entertainment</td>\n",
       "      <td>220.11</td>\n",
       "      <td>Edward</td>\n",
       "      <td>Sanchez</td>\n",
       "      <td>M</td>\n",
       "      <td>594 White Dale Suite 530</td>\n",
       "      <td>Malad City</td>\n",
       "      <td>...</td>\n",
       "      <td>42.1808</td>\n",
       "      <td>-112.2620</td>\n",
       "      <td>4154</td>\n",
       "      <td>Nature conservation officer</td>\n",
       "      <td>1962-01-19</td>\n",
       "      <td>a1a22d70485983eac12b5b88dad1cf95</td>\n",
       "      <td>1325376051</td>\n",
       "      <td>43.150704</td>\n",
       "      <td>-112.154481</td>\n",
       "      <td>0</td>\n",
       "    </tr>\n",
       "    <tr>\n",
       "      <th>3</th>\n",
       "      <td>2019-01-01 00:01:16</td>\n",
       "      <td>3534093764340240</td>\n",
       "      <td>fraud_Kutch, Hermiston and Farrell</td>\n",
       "      <td>gas_transport</td>\n",
       "      <td>45.00</td>\n",
       "      <td>Jeremy</td>\n",
       "      <td>White</td>\n",
       "      <td>M</td>\n",
       "      <td>9443 Cynthia Court Apt. 038</td>\n",
       "      <td>Boulder</td>\n",
       "      <td>...</td>\n",
       "      <td>46.2306</td>\n",
       "      <td>-112.1138</td>\n",
       "      <td>1939</td>\n",
       "      <td>Patent attorney</td>\n",
       "      <td>1967-01-12</td>\n",
       "      <td>6b849c168bdad6f867558c3793159a81</td>\n",
       "      <td>1325376076</td>\n",
       "      <td>47.034331</td>\n",
       "      <td>-112.561071</td>\n",
       "      <td>0</td>\n",
       "    </tr>\n",
       "    <tr>\n",
       "      <th>4</th>\n",
       "      <td>2019-01-01 00:03:06</td>\n",
       "      <td>375534208663984</td>\n",
       "      <td>fraud_Keeling-Crist</td>\n",
       "      <td>misc_pos</td>\n",
       "      <td>41.96</td>\n",
       "      <td>Tyler</td>\n",
       "      <td>Garcia</td>\n",
       "      <td>M</td>\n",
       "      <td>408 Bradley Rest</td>\n",
       "      <td>Doe Hill</td>\n",
       "      <td>...</td>\n",
       "      <td>38.4207</td>\n",
       "      <td>-79.4629</td>\n",
       "      <td>99</td>\n",
       "      <td>Dance movement psychotherapist</td>\n",
       "      <td>1986-03-28</td>\n",
       "      <td>a41d7549acf90789359a9aa5346dcb46</td>\n",
       "      <td>1325376186</td>\n",
       "      <td>38.674999</td>\n",
       "      <td>-78.632459</td>\n",
       "      <td>0</td>\n",
       "    </tr>\n",
       "  </tbody>\n",
       "</table>\n",
       "<p>5 rows × 22 columns</p>\n",
       "</div>"
      ],
      "text/plain": [
       "  trans_date_trans_time            cc_num                            merchant  \\\n",
       "0   2019-01-01 00:00:18  2703186189652095          fraud_Rippin, Kub and Mann   \n",
       "1   2019-01-01 00:00:44      630423337322     fraud_Heller, Gutmann and Zieme   \n",
       "2   2019-01-01 00:00:51    38859492057661                fraud_Lind-Buckridge   \n",
       "3   2019-01-01 00:01:16  3534093764340240  fraud_Kutch, Hermiston and Farrell   \n",
       "4   2019-01-01 00:03:06   375534208663984                 fraud_Keeling-Crist   \n",
       "\n",
       "        category     amt      first     last gender  \\\n",
       "0       misc_net    4.97   Jennifer    Banks      F   \n",
       "1    grocery_pos  107.23  Stephanie     Gill      F   \n",
       "2  entertainment  220.11     Edward  Sanchez      M   \n",
       "3  gas_transport   45.00     Jeremy    White      M   \n",
       "4       misc_pos   41.96      Tyler   Garcia      M   \n",
       "\n",
       "                         street            city  ...      lat      long  \\\n",
       "0                561 Perry Cove  Moravian Falls  ...  36.0788  -81.1781   \n",
       "1  43039 Riley Greens Suite 393          Orient  ...  48.8878 -118.2105   \n",
       "2      594 White Dale Suite 530      Malad City  ...  42.1808 -112.2620   \n",
       "3   9443 Cynthia Court Apt. 038         Boulder  ...  46.2306 -112.1138   \n",
       "4              408 Bradley Rest        Doe Hill  ...  38.4207  -79.4629   \n",
       "\n",
       "   city_pop                                job         dob  \\\n",
       "0      3495          Psychologist, counselling  1988-03-09   \n",
       "1       149  Special educational needs teacher  1978-06-21   \n",
       "2      4154        Nature conservation officer  1962-01-19   \n",
       "3      1939                    Patent attorney  1967-01-12   \n",
       "4        99     Dance movement psychotherapist  1986-03-28   \n",
       "\n",
       "                          trans_num   unix_time  merch_lat  merch_long  \\\n",
       "0  0b242abb623afc578575680df30655b9  1325376018  36.011293  -82.048315   \n",
       "1  1f76529f8574734946361c461b024d99  1325376044  49.159047 -118.186462   \n",
       "2  a1a22d70485983eac12b5b88dad1cf95  1325376051  43.150704 -112.154481   \n",
       "3  6b849c168bdad6f867558c3793159a81  1325376076  47.034331 -112.561071   \n",
       "4  a41d7549acf90789359a9aa5346dcb46  1325376186  38.674999  -78.632459   \n",
       "\n",
       "   is_fraud  \n",
       "0         0  \n",
       "1         0  \n",
       "2         0  \n",
       "3         0  \n",
       "4         0  \n",
       "\n",
       "[5 rows x 22 columns]"
      ]
     },
     "execution_count": 2,
     "metadata": {},
     "output_type": "execute_result"
    }
   ],
   "source": [
    "df.head()"
   ]
  },
  {
   "cell_type": "code",
   "execution_count": 3,
   "id": "68db08d4",
   "metadata": {
    "scrolled": true
   },
   "outputs": [
    {
     "name": "stdout",
     "output_type": "stream",
     "text": [
      "Missing values per column:\n",
      "trans_date_trans_time    0\n",
      "cc_num                   0\n",
      "merchant                 0\n",
      "category                 0\n",
      "amt                      0\n",
      "first                    0\n",
      "last                     0\n",
      "gender                   0\n",
      "street                   0\n",
      "city                     0\n",
      "state                    0\n",
      "zip                      0\n",
      "lat                      0\n",
      "long                     0\n",
      "city_pop                 0\n",
      "job                      0\n",
      "dob                      0\n",
      "trans_num                0\n",
      "unix_time                0\n",
      "merch_lat                0\n",
      "merch_long               0\n",
      "is_fraud                 0\n",
      "dtype: int64\n"
     ]
    }
   ],
   "source": [
    "# missing values \n",
    "missing_values = df.isnull().sum()\n",
    "print(\"Missing values per column:\")\n",
    "print(missing_values)"
   ]
  },
  {
   "cell_type": "code",
   "execution_count": 4,
   "id": "ff268e2c",
   "metadata": {},
   "outputs": [],
   "source": [
    "from sklearn.preprocessing import LabelEncoder, OneHotEncoder\n",
    "from sklearn.compose import ColumnTransformer\n",
    "\n",
    "# Identify categorical variables\n",
    "categorical_features = ['merchant', 'category', 'gender']\n",
    "\n",
    "# Apply label encoding to 'gender' since it has ordinal values (e.g., 'F', 'M')\n",
    "label_encoder = LabelEncoder()\n",
    "df['gender_encoded'] = label_encoder.fit_transform(df['gender'])\n",
    "\n",
    "# Apply one-hot encoding to 'merchant' and 'category'\n",
    "df = pd.get_dummies(df, columns=['merchant', 'category'], prefix=['merchant', 'category'])\n"
   ]
  },
  {
   "cell_type": "markdown",
   "id": "94a41273",
   "metadata": {},
   "source": [
    "### reason  \n",
    "tell why chose the variable????"
   ]
  },
  {
   "cell_type": "code",
   "execution_count": 5,
   "id": "5a68cc43",
   "metadata": {},
   "outputs": [],
   "source": [
    "from sklearn.preprocessing import MinMaxScaler\n",
    "\n",
    "# Identify numerical features\n",
    "numerical_features = ['amt', 'city_pop', 'lat', 'long', 'merch_lat', 'merch_long']\n",
    "\n",
    "# Apply Min-Max scaling to numerical features\n",
    "scaler = MinMaxScaler()\n",
    "df[numerical_features] = scaler.fit_transform(df[numerical_features])\n"
   ]
  },
  {
   "cell_type": "code",
   "execution_count": 6,
   "id": "df5321a4",
   "metadata": {},
   "outputs": [
    {
     "data": {
      "text/html": [
       "<div>\n",
       "<style scoped>\n",
       "    .dataframe tbody tr th:only-of-type {\n",
       "        vertical-align: middle;\n",
       "    }\n",
       "\n",
       "    .dataframe tbody tr th {\n",
       "        vertical-align: top;\n",
       "    }\n",
       "\n",
       "    .dataframe thead th {\n",
       "        text-align: right;\n",
       "    }\n",
       "</style>\n",
       "<table border=\"1\" class=\"dataframe\">\n",
       "  <thead>\n",
       "    <tr style=\"text-align: right;\">\n",
       "      <th></th>\n",
       "      <th>trans_date_trans_time</th>\n",
       "      <th>cc_num</th>\n",
       "      <th>amt</th>\n",
       "      <th>first</th>\n",
       "      <th>last</th>\n",
       "      <th>gender</th>\n",
       "      <th>street</th>\n",
       "      <th>city</th>\n",
       "      <th>state</th>\n",
       "      <th>zip</th>\n",
       "      <th>...</th>\n",
       "      <th>category_grocery_pos</th>\n",
       "      <th>category_health_fitness</th>\n",
       "      <th>category_home</th>\n",
       "      <th>category_kids_pets</th>\n",
       "      <th>category_misc_net</th>\n",
       "      <th>category_misc_pos</th>\n",
       "      <th>category_personal_care</th>\n",
       "      <th>category_shopping_net</th>\n",
       "      <th>category_shopping_pos</th>\n",
       "      <th>category_travel</th>\n",
       "    </tr>\n",
       "  </thead>\n",
       "  <tbody>\n",
       "    <tr>\n",
       "      <th>0</th>\n",
       "      <td>2019-01-01 00:00:18</td>\n",
       "      <td>2703186189652095</td>\n",
       "      <td>0.000137</td>\n",
       "      <td>Jennifer</td>\n",
       "      <td>Banks</td>\n",
       "      <td>F</td>\n",
       "      <td>561 Perry Cove</td>\n",
       "      <td>Moravian Falls</td>\n",
       "      <td>NC</td>\n",
       "      <td>28654</td>\n",
       "      <td>...</td>\n",
       "      <td>False</td>\n",
       "      <td>False</td>\n",
       "      <td>False</td>\n",
       "      <td>False</td>\n",
       "      <td>True</td>\n",
       "      <td>False</td>\n",
       "      <td>False</td>\n",
       "      <td>False</td>\n",
       "      <td>False</td>\n",
       "      <td>False</td>\n",
       "    </tr>\n",
       "    <tr>\n",
       "      <th>1</th>\n",
       "      <td>2019-01-01 00:00:44</td>\n",
       "      <td>630423337322</td>\n",
       "      <td>0.003670</td>\n",
       "      <td>Stephanie</td>\n",
       "      <td>Gill</td>\n",
       "      <td>F</td>\n",
       "      <td>43039 Riley Greens Suite 393</td>\n",
       "      <td>Orient</td>\n",
       "      <td>WA</td>\n",
       "      <td>99160</td>\n",
       "      <td>...</td>\n",
       "      <td>True</td>\n",
       "      <td>False</td>\n",
       "      <td>False</td>\n",
       "      <td>False</td>\n",
       "      <td>False</td>\n",
       "      <td>False</td>\n",
       "      <td>False</td>\n",
       "      <td>False</td>\n",
       "      <td>False</td>\n",
       "      <td>False</td>\n",
       "    </tr>\n",
       "  </tbody>\n",
       "</table>\n",
       "<p>2 rows × 728 columns</p>\n",
       "</div>"
      ],
      "text/plain": [
       "  trans_date_trans_time            cc_num       amt      first   last gender  \\\n",
       "0   2019-01-01 00:00:18  2703186189652095  0.000137   Jennifer  Banks      F   \n",
       "1   2019-01-01 00:00:44      630423337322  0.003670  Stephanie   Gill      F   \n",
       "\n",
       "                         street            city state    zip  ...  \\\n",
       "0                561 Perry Cove  Moravian Falls    NC  28654  ...   \n",
       "1  43039 Riley Greens Suite 393          Orient    WA  99160  ...   \n",
       "\n",
       "   category_grocery_pos  category_health_fitness  category_home  \\\n",
       "0                 False                    False          False   \n",
       "1                  True                    False          False   \n",
       "\n",
       "  category_kids_pets category_misc_net category_misc_pos  \\\n",
       "0              False              True             False   \n",
       "1              False             False             False   \n",
       "\n",
       "   category_personal_care  category_shopping_net  category_shopping_pos  \\\n",
       "0                   False                  False                  False   \n",
       "1                   False                  False                  False   \n",
       "\n",
       "   category_travel  \n",
       "0            False  \n",
       "1            False  \n",
       "\n",
       "[2 rows x 728 columns]"
      ]
     },
     "execution_count": 6,
     "metadata": {},
     "output_type": "execute_result"
    }
   ],
   "source": [
    "df.head(2)"
   ]
  },
  {
   "cell_type": "markdown",
   "id": "ff682496",
   "metadata": {},
   "source": [
    "## Feature Creation:"
   ]
  },
  {
   "cell_type": "code",
   "execution_count": 7,
   "id": "6fd18a9e",
   "metadata": {},
   "outputs": [
    {
     "name": "stdout",
     "output_type": "stream",
     "text": [
      "  trans_date_trans_time            cc_num       amt      first     last  \\\n",
      "0   2019-01-01 00:00:18  2703186189652095  0.000137   Jennifer    Banks   \n",
      "1   2019-01-01 00:00:44      630423337322  0.003670  Stephanie     Gill   \n",
      "2   2019-01-01 00:00:51    38859492057661  0.007569     Edward  Sanchez   \n",
      "3   2019-01-01 00:01:16  3534093764340240  0.001520     Jeremy    White   \n",
      "4   2019-01-01 00:03:06   375534208663984  0.001415      Tyler   Garcia   \n",
      "\n",
      "  gender                        street            city state    zip  ...  \\\n",
      "0      F                561 Perry Cove  Moravian Falls    NC  28654  ...   \n",
      "1      F  43039 Riley Greens Suite 393          Orient    WA  99160  ...   \n",
      "2      M      594 White Dale Suite 530      Malad City    ID  83252  ...   \n",
      "3      M   9443 Cynthia Court Apt. 038         Boulder    MT  59632  ...   \n",
      "4      M              408 Bradley Rest        Doe Hill    VA  24433  ...   \n",
      "\n",
      "   category_personal_care  category_shopping_net  category_shopping_pos  \\\n",
      "0                   False                  False                  False   \n",
      "1                   False                  False                  False   \n",
      "2                   False                  False                  False   \n",
      "3                   False                  False                  False   \n",
      "4                   False                  False                  False   \n",
      "\n",
      "  category_travel total_amt_by_merchant avg_amt_by_category  hour_of_day  \\\n",
      "0           False           3715.578161            0.002217            0   \n",
      "1           False            703.842177            0.003995            0   \n",
      "2           False           3715.578161            0.002217            0   \n",
      "3           False           3715.578161            0.002217            0   \n",
      "4           False           3715.578161            0.002217            0   \n",
      "\n",
      "   day_of_week  distance_from_merchant  transaction_count_by_customer  \n",
      "0            1                0.017243                           2927  \n",
      "1            1                0.003086                           4362  \n",
      "2            1                0.022837                            735  \n",
      "3            1                0.017051                            743  \n",
      "4            1                0.011116                           2922  \n",
      "\n",
      "[5 rows x 734 columns]\n"
     ]
    }
   ],
   "source": [
    "# Create new features\n",
    "if 'amt' in df.columns and 'category_grocery_pos' in df.columns:\n",
    "    # 1. Transaction Amount Aggregations\n",
    "    df['total_amt_by_merchant'] = df.groupby('category_grocery_pos')['amt'].transform('sum')\n",
    "    df['avg_amt_by_category'] = df.groupby('category_grocery_pos')['amt'].transform('mean')\n",
    "\n",
    "    # 2. Time-based features\n",
    "    df['hour_of_day'] = df['trans_date_trans_time'].dt.hour\n",
    "    df['day_of_week'] = df['trans_date_trans_time'].dt.dayofweek\n",
    "\n",
    "    # 3. Distance from Merchant\n",
    "    df['distance_from_merchant'] = ((df['lat'] - df['merch_lat'])**2 + (df['long'] - df['merch_long'])**2)**0.5\n",
    "\n",
    "    # 4. Transaction Frequency by Customer\n",
    "    df['transaction_count_by_customer'] = df.groupby('cc_num')['trans_num'].transform('count')\n",
    "\n",
    "    # Display a sample of the dataset with the new features\n",
    "    print(df.head())\n",
    "else:\n",
    "    print(\"Error: Check column names 'amt' and 'category_grocery_pos' in your DataFrame.\")\n"
   ]
  },
  {
   "cell_type": "markdown",
   "id": "128da51c",
   "metadata": {},
   "source": [
    "The introduction of new features in the dataset aims to enhance the fraud detection model's ability to discern patterns indicative of fraudulent transactions. Aggregated transaction amounts by merchant ('total_amt_by_merchant') and average transaction amounts by category ('avg_amt_by_category') offer insights into spending behavior specific to merchants and categories, aiding in the identification of anomalies. Time-based features such as 'hour_of_day' and 'day_of_week' capture potential temporal patterns in fraudulent activities, as fraud dynamics may vary throughout the day and week. The 'distance_from_merchant' feature provides a measure of spatial inconsistency, helping identify potentially suspicious transactions based on the distance between customer and merchant locations. Additionally, 'transaction_count_by_customer' offers a measure of the frequency of transactions per customer, serving as a valuable indicator for detecting irregular transaction patterns. Each new feature is strategically chosen to contribute valuable information for the model to discern and classify instances of fraud effectively."
   ]
  },
  {
   "cell_type": "markdown",
   "id": "5bd2a6ac",
   "metadata": {},
   "source": [
    "## Feature Selction"
   ]
  },
  {
   "cell_type": "code",
   "execution_count": 8,
   "id": "de51e4d9",
   "metadata": {},
   "outputs": [],
   "source": [
    "from sklearn.ensemble import RandomForestClassifier\n",
    "from sklearn.preprocessing import LabelEncoder\n",
    "from sklearn.feature_selection import SelectFromModel\n",
    "import matplotlib.pyplot as plt"
   ]
  },
  {
   "cell_type": "code",
   "execution_count": 9,
   "id": "eff89bac",
   "metadata": {},
   "outputs": [],
   "source": [
    "# Subset of data (adjust the fraction as needed)\n",
    "subset_size = 0.1\n",
    "df_subset = df.sample(frac=subset_size, random_state=42)"
   ]
  },
  {
   "cell_type": "code",
   "execution_count": 10,
   "id": "748a2895",
   "metadata": {},
   "outputs": [],
   "source": [
    "# Separate features and target variable\n",
    "X_subset = df_subset.drop(['is_fraud', 'trans_date_trans_time', 'first', 'last', 'gender', 'street', 'city', 'state', 'zip'], axis=1)\n",
    "y_subset = df_subset['is_fraud']"
   ]
  },
  {
   "cell_type": "code",
   "execution_count": 11,
   "id": "40e65eae",
   "metadata": {},
   "outputs": [],
   "source": [
    "# Label encode categorical columns\n",
    "label_encoder = LabelEncoder()\n",
    "X_encoded_subset = X_subset.copy()\n",
    "\n",
    "for column in X_subset.select_dtypes(include=['object']).columns:\n",
    "    X_encoded_subset[column] = label_encoder.fit_transform(X_subset[column])"
   ]
  },
  {
   "cell_type": "code",
   "execution_count": 12,
   "id": "2476e9aa",
   "metadata": {},
   "outputs": [
    {
     "data": {
      "text/html": [
       "<style>#sk-container-id-1 {color: black;}#sk-container-id-1 pre{padding: 0;}#sk-container-id-1 div.sk-toggleable {background-color: white;}#sk-container-id-1 label.sk-toggleable__label {cursor: pointer;display: block;width: 100%;margin-bottom: 0;padding: 0.3em;box-sizing: border-box;text-align: center;}#sk-container-id-1 label.sk-toggleable__label-arrow:before {content: \"▸\";float: left;margin-right: 0.25em;color: #696969;}#sk-container-id-1 label.sk-toggleable__label-arrow:hover:before {color: black;}#sk-container-id-1 div.sk-estimator:hover label.sk-toggleable__label-arrow:before {color: black;}#sk-container-id-1 div.sk-toggleable__content {max-height: 0;max-width: 0;overflow: hidden;text-align: left;background-color: #f0f8ff;}#sk-container-id-1 div.sk-toggleable__content pre {margin: 0.2em;color: black;border-radius: 0.25em;background-color: #f0f8ff;}#sk-container-id-1 input.sk-toggleable__control:checked~div.sk-toggleable__content {max-height: 200px;max-width: 100%;overflow: auto;}#sk-container-id-1 input.sk-toggleable__control:checked~label.sk-toggleable__label-arrow:before {content: \"▾\";}#sk-container-id-1 div.sk-estimator input.sk-toggleable__control:checked~label.sk-toggleable__label {background-color: #d4ebff;}#sk-container-id-1 div.sk-label input.sk-toggleable__control:checked~label.sk-toggleable__label {background-color: #d4ebff;}#sk-container-id-1 input.sk-hidden--visually {border: 0;clip: rect(1px 1px 1px 1px);clip: rect(1px, 1px, 1px, 1px);height: 1px;margin: -1px;overflow: hidden;padding: 0;position: absolute;width: 1px;}#sk-container-id-1 div.sk-estimator {font-family: monospace;background-color: #f0f8ff;border: 1px dotted black;border-radius: 0.25em;box-sizing: border-box;margin-bottom: 0.5em;}#sk-container-id-1 div.sk-estimator:hover {background-color: #d4ebff;}#sk-container-id-1 div.sk-parallel-item::after {content: \"\";width: 100%;border-bottom: 1px solid gray;flex-grow: 1;}#sk-container-id-1 div.sk-label:hover label.sk-toggleable__label {background-color: #d4ebff;}#sk-container-id-1 div.sk-serial::before {content: \"\";position: absolute;border-left: 1px solid gray;box-sizing: border-box;top: 0;bottom: 0;left: 50%;z-index: 0;}#sk-container-id-1 div.sk-serial {display: flex;flex-direction: column;align-items: center;background-color: white;padding-right: 0.2em;padding-left: 0.2em;position: relative;}#sk-container-id-1 div.sk-item {position: relative;z-index: 1;}#sk-container-id-1 div.sk-parallel {display: flex;align-items: stretch;justify-content: center;background-color: white;position: relative;}#sk-container-id-1 div.sk-item::before, #sk-container-id-1 div.sk-parallel-item::before {content: \"\";position: absolute;border-left: 1px solid gray;box-sizing: border-box;top: 0;bottom: 0;left: 50%;z-index: -1;}#sk-container-id-1 div.sk-parallel-item {display: flex;flex-direction: column;z-index: 1;position: relative;background-color: white;}#sk-container-id-1 div.sk-parallel-item:first-child::after {align-self: flex-end;width: 50%;}#sk-container-id-1 div.sk-parallel-item:last-child::after {align-self: flex-start;width: 50%;}#sk-container-id-1 div.sk-parallel-item:only-child::after {width: 0;}#sk-container-id-1 div.sk-dashed-wrapped {border: 1px dashed gray;margin: 0 0.4em 0.5em 0.4em;box-sizing: border-box;padding-bottom: 0.4em;background-color: white;}#sk-container-id-1 div.sk-label label {font-family: monospace;font-weight: bold;display: inline-block;line-height: 1.2em;}#sk-container-id-1 div.sk-label-container {text-align: center;}#sk-container-id-1 div.sk-container {/* jupyter's `normalize.less` sets `[hidden] { display: none; }` but bootstrap.min.css set `[hidden] { display: none !important; }` so we also need the `!important` here to be able to override the default hidden behavior on the sphinx rendered scikit-learn.org. See: https://github.com/scikit-learn/scikit-learn/issues/21755 */display: inline-block !important;position: relative;}#sk-container-id-1 div.sk-text-repr-fallback {display: none;}</style><div id=\"sk-container-id-1\" class=\"sk-top-container\"><div class=\"sk-text-repr-fallback\"><pre>RandomForestClassifier(n_estimators=50, random_state=42)</pre><b>In a Jupyter environment, please rerun this cell to show the HTML representation or trust the notebook. <br />On GitHub, the HTML representation is unable to render, please try loading this page with nbviewer.org.</b></div><div class=\"sk-container\" hidden><div class=\"sk-item\"><div class=\"sk-estimator sk-toggleable\"><input class=\"sk-toggleable__control sk-hidden--visually\" id=\"sk-estimator-id-1\" type=\"checkbox\" checked><label for=\"sk-estimator-id-1\" class=\"sk-toggleable__label sk-toggleable__label-arrow\">RandomForestClassifier</label><div class=\"sk-toggleable__content\"><pre>RandomForestClassifier(n_estimators=50, random_state=42)</pre></div></div></div></div></div>"
      ],
      "text/plain": [
       "RandomForestClassifier(n_estimators=50, random_state=42)"
      ]
     },
     "execution_count": 12,
     "metadata": {},
     "output_type": "execute_result"
    }
   ],
   "source": [
    "# RandomForestClassifier with reduced estimators\n",
    "rf_classifier_subset = RandomForestClassifier(n_estimators=50, random_state=42)\n",
    "rf_classifier_subset.fit(X_encoded_subset, y_subset)"
   ]
  },
  {
   "cell_type": "code",
   "execution_count": 14,
   "id": "6a7a9446",
   "metadata": {},
   "outputs": [
    {
     "data": {
      "image/png": "[encoded data removed]",
      "text/plain": [
       "<Figure size 1000x800 with 1 Axes>"
      ]
     },
     "metadata": {},
     "output_type": "display_data"
    }
   ],
   "source": [
    "# Plot feature importances\n",
    "feature_importances_subset = pd.Series(rf_classifier_subset.feature_importances_, index=X_encoded_subset.columns)\n",
    "feature_importances_subset.nlargest(15).plot(kind='barh', figsize=(10, 8))\n",
    "plt.title('Top 15 Features - Random Forest Classifier (Subset)')\n",
    "plt.xlabel('Feature Importance')\n",
    "plt.ylabel('Feature')\n",
    "plt.show()"
   ]
  },
  {
   "cell_type": "code",
   "execution_count": 15,
   "id": "6d6913cf",
   "metadata": {},
   "outputs": [],
   "source": [
    "# Select top features based on importance\n",
    "selected_features_subset = SelectFromModel(rf_classifier_subset, threshold='mean')\n",
    "selected_features_subset.fit(X_encoded_subset, y_subset)\n",
    "X_selected_subset = selected_features_subset.transform(X_encoded_subset)"
   ]
  },
  {
   "cell_type": "code",
   "execution_count": 16,
   "id": "1dfbf91b",
   "metadata": {},
   "outputs": [
    {
     "name": "stdout",
     "output_type": "stream",
     "text": [
      "Selected Features (Subset): Index(['cc_num', 'amt', 'lat', 'long', 'city_pop', 'job', 'dob', 'trans_num',\n",
      "       'unix_time', 'merch_lat', 'merch_long', 'gender_encoded',\n",
      "       'category_gas_transport', 'category_grocery_pos', 'category_misc_net',\n",
      "       'category_misc_pos', 'category_shopping_net', 'category_shopping_pos',\n",
      "       'category_travel', 'total_amt_by_merchant', 'avg_amt_by_category',\n",
      "       'hour_of_day', 'day_of_week', 'distance_from_merchant',\n",
      "       'transaction_count_by_customer'],\n",
      "      dtype='object')\n"
     ]
    }
   ],
   "source": [
    "# Display selected features\n",
    "selected_feature_names_subset = X_encoded_subset.columns[selected_features_subset.get_support()]\n",
    "print(\"Selected Features (Subset):\", selected_feature_names_subset)"
   ]
  },
  {
   "cell_type": "markdown",
   "id": "ccfcffc3",
   "metadata": {},
   "source": [
    "##### explanation:\n",
    "The features selected for the model were chosen based on their importance in distinguishing fraud transactions from non-fraud ones. The Random Forest Classifier(ensemble learning algorithm) was used for this. By considering feature importance scores derived from the classifier, we identified the top features that contribute the most to the model's predictive performance. This selection process ensures that the model focuses on the most relevant information, enhancing its ability to discern patterns indicative of fraud within the dataset."
   ]
  },
  {
   "cell_type": "markdown",
   "id": "81b803e2",
   "metadata": {},
   "source": [
    "## Summary"
   ]
  },
  {
   "cell_type": "markdown",
   "id": "a75ed5a3",
   "metadata": {},
   "source": [
    "-**Label Encoding:** Categorical variables were encoded using label encoding, converting them into numerical representations. This step was chosen to handle categorical data efficiently and enable its integration into machine learning models.\n",
    "\n",
    "-**Random Forest Feature Importance:** The Random Forest Classifier was employed to identify the most influential features in predicting fraud. This step helped in selecting a subset of features that significantly contribute to the model's overall predictive accuracy.\n",
    "\n",
    "-**Subset and Reduced Estimators:** To address computational challenges, a subset of the dataset was utilized, and the number of estimators in the Random Forest Classifier was reduced. This allowed for a quicker analysis while maintaining a reasonable representation of the data.\n",
    "\n",
    "-**Visualization of Feature Importance:** A bar plot was generated to visually represent the top 15 features based on their importance scores. This step aids in interpreting the significance of each feature and provides a clear understanding of the model's focus.\n",
    "\n",
    "-**Impact on Model Performance:** Feature engineering, including label encoding and feature selection, has a twofold impact. Firstly, it streamlines the model's computational efficiency, crucial for large datasets. Secondly, it enhances the model's predictive accuracy by prioritizing the most relevant features, contributing to a more effective fraud detection system."
   ]
  }
 ],
 "metadata": {
  "kernelspec": {
   "display_name": "Python 3 (ipykernel)",
   "language": "python",
   "name": "python3"
  },
  "language_info": {
   "codemirror_mode": {
    "name": "ipython",
    "version": 3
   },
   "file_extension": ".py",
   "mimetype": "text/x-python",
   "name": "python",
   "nbconvert_exporter": "python",
   "pygments_lexer": "ipython3",
   "version": "3.11.5"
  }
 },
 "nbformat": 4,
 "nbformat_minor": 5
}
